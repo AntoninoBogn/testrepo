{
 "cells": [
  {
   "cell_type": "markdown",
   "id": "0b20c0d9-6742-49b9-bc79-3859700a17a7",
   "metadata": {},
   "source": [
    "# Inizio\n",
    "<a id=\"inizio\">"
   ]
  },
  {
   "cell_type": "markdown",
   "id": "708841e5-7d4a-4d19-86e0-39c2cf318fc6",
   "metadata": {},
   "source": [
    "Questo e' un semplice paragrafo\n"
   ]
  },
  {
   "cell_type": "markdown",
   "id": "72f8551f-b1c9-4df7-b1ae-ab2a9a25591f",
   "metadata": {},
   "source": [
    "#Questa e' un intestazione"
   ]
  },
  {
   "cell_type": "markdown",
   "id": "bbb81c23-2c82-4c45-814b-0c553baf03ec",
   "metadata": {},
   "source": [
    "# Questa e' una intestazione"
   ]
  },
  {
   "cell_type": "markdown",
   "id": "e7ad5d38-2fd2-4940-ae10-fdd83036e8dd",
   "metadata": {},
   "source": [
    "### Piu cancelletti mettiamo piu e' piccolo il testo"
   ]
  },
  {
   "cell_type": "markdown",
   "id": "524a8dd2-1d38-4aaf-8cc1-61b05c091e36",
   "metadata": {},
   "source": [
    "## Corsivo e Grassetto"
   ]
  },
  {
   "cell_type": "markdown",
   "id": "439dc988-0401-4850-b78c-10ace8ec5a44",
   "metadata": {},
   "source": [
    "*Corsivo tra singolo asterisco* **grassetto tra doppi asterischi**"
   ]
  },
  {
   "cell_type": "markdown",
   "id": "95cc78af-da91-4853-ac03-6a01271fcc2b",
   "metadata": {},
   "source": [
    "## Cambio Colore Font"
   ]
  },
  {
   "cell_type": "markdown",
   "id": "77ef6ad1-8c92-44f3-9920-743045cd2b2a",
   "metadata": {},
   "source": [
    "<font color=\"red\"> Per cambiare colore utilizziamo il tag font </font>"
   ]
  },
  {
   "cell_type": "markdown",
   "id": "01bdccc6-6814-469f-b5e7-8f69f5abedee",
   "metadata": {
    "jp-MarkdownHeadingCollapsed": true
   },
   "source": [
    "## Andiamo a capo"
   ]
  },
  {
   "cell_type": "markdown",
   "id": "8b50e174-c263-4326-8838-90237b1f1ad8",
   "metadata": {},
   "source": [
    "per andare a capo utilizziamo <br> break(br) come html "
   ]
  },
  {
   "cell_type": "markdown",
   "id": "4425c35b-11db-4378-97db-e772ea0c030e",
   "metadata": {},
   "source": [
    "per indentare il utilizziamo il maggiore > "
   ]
  },
  {
   "cell_type": "markdown",
   "id": "8d299b17-7876-4306-8cb4-315e0e58adb2",
   "metadata": {},
   "source": [
    "> Indentato"
   ]
  },
  {
   "cell_type": "markdown",
   "id": "960fdf14-4513-4fda-9e35-cc77450c334d",
   "metadata": {},
   "source": [
    "## Lista Numerata e Non"
   ]
  },
  {
   "cell_type": "markdown",
   "id": "0b254622-2e37-4964-aef9-05ce43f30f92",
   "metadata": {},
   "source": [
    "Lista non numerata basta mettere  il testo preceduto da un asterisco\n",
    "* Primo Elemento\n",
    "* Secondo Elemento\n",
    "\n",
    "Per farne una invece un indentazione basta aggiungere uno spazio di indentazione con tab piu l asterisco\n",
    "* Elemento annidato\n",
    "    * Elemento 1.1\n",
    "\n",
    "Per farne una numerata basta aggiungere un numero punato 1.Elemento\n",
    "1. Elemento1\n",
    "    1. Annidato1\n",
    "3. Elemento2"
   ]
  },
  {
   "cell_type": "markdown",
   "id": "eed115a7-c168-4a2c-a0cf-4730c0ac1270",
   "metadata": {},
   "source": [
    "## Inserimento Link e File Multimediali"
   ]
  },
  {
   "cell_type": "markdown",
   "id": "27e1a06b-62f0-4a7b-855f-e8c3fc1e6557",
   "metadata": {},
   "source": [
    "Per creare dei link esterni  dobbiamo inserire il link tra parentesi quadre e l urt tra  parentesi tonde\n",
    "[Vai al sito](https://google.com)"
   ]
  },
  {
   "cell_type": "markdown",
   "id": "ddef0030-d007-4583-991b-0cf5ff04e4cd",
   "metadata": {},
   "source": [
    "Per creare dei link interni dobbiamo inserire tra parentesi tonde l id della sezione a cui vogliamo rimandare, per aggiungere un id ad una sezione si utilizza il tag <a con l id=> e poi tra le parentesi tonde l id a cui vogliamo rimandare con  il cancelletto\n",
    "[Vai all inizio](#inizio)"
   ]
  },
  {
   "cell_type": "markdown",
   "id": "39b74fe7-5439-4041-9761-47b604dbba17",
   "metadata": {},
   "source": [
    "Per inserire delle immagini possiamo utilizzare lo stesso path dei link ma bisogna mettere il punto esclamativo "
   ]
  },
  {
   "cell_type": "markdown",
   "id": "92d21b01-3a96-476d-8421-be6ee7ae1d3e",
   "metadata": {},
   "source": [
    "Oppure possiamo utilizzare il tag <img src=\"path\" alt=\"logo\" possiamo aggiungere anche height e weight come attributi per modificare l immmagine"
   ]
  },
  {
   "cell_type": "markdown",
   "id": "0c44c2ce-6c21-4038-999b-adafaeb7739d",
   "metadata": {},
   "source": [
    "Per i video possiamo utilizzare il tag <video con l aggiunta di attributi width height e il path del video ricordando di mettere controls\n",
    "<video width=\"320\" height=\"240\" src=\"https://www.youtube.com/watch?v=WOK9HeB-OmY&ab_channel=TheCodeCity\" controls/>"
   ]
  },
  {
   "cell_type": "markdown",
   "id": "02541c1f-ce6a-442d-8641-d1a09997ffa3",
   "metadata": {},
   "source": [
    "Per i file audio utilizziamo il tag audio inserendo sempre controls "
   ]
  },
  {
   "cell_type": "markdown",
   "id": "87beb8ad-830b-4052-abf1-60d510761a85",
   "metadata": {},
   "source": [
    "Un altra soluzione potrebbe essere utilizzare direttamente il codice python"
   ]
  },
  {
   "cell_type": "markdown",
   "id": "b5db4c54-65e9-4a3d-9909-f3e35d12ff23",
   "metadata": {},
   "source": [
    "## Scrivere equazioni Matematiche utilizzando Latex"
   ]
  },
  {
   "cell_type": "markdown",
   "id": "5723089d-4b43-4c70-ba2e-afb93e3fa56e",
   "metadata": {},
   "source": [
    "Per indicare ad una cella che deve intepretare quello che stiamo scrivendo come codice Latex dobbiamo racchiuderlo tra il simbolo del dollaro"
   ]
  },
  {
   "cell_type": "markdown",
   "id": "aad61931-e195-4cc7-92e7-7c20bd2fdc57",
   "metadata": {},
   "source": [
    "$3* (3/2 +4) ^2$"
   ]
  },
  {
   "cell_type": "markdown",
   "id": "b360262d-f7c7-420f-8107-0b79af82ddc8",
   "metadata": {},
   "source": [
    "Questa e' un' equazione $ x= \\sqrt{z^2 + y^2} $"
   ]
  },
  {
   "cell_type": "markdown",
   "id": "927e7893-a3c1-4265-8d23-319e36ac7438",
   "metadata": {},
   "source": [
    "se aggiungiamo doppi simboli dollaro l equazione andra a capo e centrata\n",
    "Questa e' un' equazione $$ x= \\sqrt{z^2 + y^2} $$"
   ]
  }
 ],
 "metadata": {
  "kernelspec": {
   "display_name": "Python 3 (ipykernel)",
   "language": "python",
   "name": "python3"
  },
  "language_info": {
   "codemirror_mode": {
    "name": "ipython",
    "version": 3
   },
   "file_extension": ".py",
   "mimetype": "text/x-python",
   "name": "python",
   "nbconvert_exporter": "python",
   "pygments_lexer": "ipython3",
   "version": "3.12.7"
  }
 },
 "nbformat": 4,
 "nbformat_minor": 5
}
